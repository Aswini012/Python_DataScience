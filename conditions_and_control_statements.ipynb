{
  "nbformat": 4,
  "nbformat_minor": 0,
  "metadata": {
    "colab": {
      "provenance": []
    },
    "kernelspec": {
      "name": "python3",
      "display_name": "Python 3"
    },
    "language_info": {
      "name": "python"
    }
  },
  "cells": [
    {
      "cell_type": "code",
      "execution_count": null,
      "metadata": {
        "colab": {
          "base_uri": "https://localhost:8080/"
        },
        "id": "XBZqE4tJaN_k",
        "outputId": "6b8c4aec-0359-4e35-ba2a-6c798a058898"
      },
      "outputs": [
        {
          "output_type": "stream",
          "name": "stdout",
          "text": [
            "gud morning\n",
            "gud morning\n",
            "gud morning\n",
            "gud morning\n",
            "gud morning\n",
            "gud morning\n",
            "gud morning\n",
            "gud morning\n",
            "gud morning\n"
          ]
        }
      ],
      "source": [
        "for i in range(21,30):\n",
        "  print(\"gud morning\")"
      ]
    },
    {
      "cell_type": "code",
      "source": [
        "for i in range(6):\n",
        "  print(i+1)"
      ],
      "metadata": {
        "colab": {
          "base_uri": "https://localhost:8080/"
        },
        "id": "gNCxFDVJa83U",
        "outputId": "968f69e1-41c9-4e25-8260-e4bd57bb8798"
      },
      "execution_count": null,
      "outputs": [
        {
          "output_type": "stream",
          "name": "stdout",
          "text": [
            "1\n",
            "2\n",
            "3\n",
            "4\n",
            "5\n",
            "6\n"
          ]
        }
      ]
    },
    {
      "cell_type": "code",
      "source": [
        "for i in range(1,11):\n",
        "  print(i,end = \"  \")"
      ],
      "metadata": {
        "colab": {
          "base_uri": "https://localhost:8080/"
        },
        "id": "EZdfIuBPbOd6",
        "outputId": "c0cce535-1e7b-423e-f62d-967b16021939"
      },
      "execution_count": null,
      "outputs": [
        {
          "output_type": "stream",
          "name": "stdout",
          "text": [
            "1  2  3  4  5  6  7  8  9  10  "
          ]
        }
      ]
    },
    {
      "cell_type": "code",
      "source": [
        "for i in range(1,11):\n",
        "  print(i)"
      ],
      "metadata": {
        "colab": {
          "base_uri": "https://localhost:8080/"
        },
        "id": "ZFOQaa7Zb9MG",
        "outputId": "213fe4dc-b1d3-4e9b-dd88-6a146691511d"
      },
      "execution_count": null,
      "outputs": [
        {
          "output_type": "stream",
          "name": "stdout",
          "text": [
            "1\n",
            "2\n",
            "3\n",
            "4\n",
            "5\n",
            "6\n",
            "7\n",
            "8\n",
            "9\n",
            "10\n"
          ]
        }
      ]
    },
    {
      "cell_type": "code",
      "source": [
        "money = 30000\n",
        "iphone = 50000\n",
        "if money > iphone:\n",
        "  print(\"i will buy iphone\")\n",
        "else:\n",
        "    print(\"i will not buy iphone\")"
      ],
      "metadata": {
        "colab": {
          "base_uri": "https://localhost:8080/"
        },
        "id": "uSFT61JtdAxf",
        "outputId": "05654c17-5f1e-486f-86ea-bcca747de10e"
      },
      "execution_count": null,
      "outputs": [
        {
          "output_type": "stream",
          "name": "stdout",
          "text": [
            "i will not buy iphone\n"
          ]
        }
      ]
    },
    {
      "cell_type": "code",
      "source": [
        "money = 30000\n",
        "iphone = 50000\n",
        "samsung = 40000\n",
        "vivo = 20000\n",
        "if money > iphone:\n",
        "  print(\"i will buy iphone\")\n",
        "elif money > samsung:\n",
        "  print(\"i will buy samsung\")\n",
        "elif money > vivo:\n",
        "  print(\"i will buy vivo\")\n",
        "else:\n",
        "    print(\"i will not buy anything\")\n"
      ],
      "metadata": {
        "colab": {
          "base_uri": "https://localhost:8080/"
        },
        "id": "P4WCBPiId1N0",
        "outputId": "74408e01-85bc-4ab5-cd36-d0827157dc93"
      },
      "execution_count": null,
      "outputs": [
        {
          "output_type": "stream",
          "name": "stdout",
          "text": [
            "i will buy vivo\n"
          ]
        }
      ]
    },
    {
      "cell_type": "code",
      "source": [
        "for i in range(1,21):\n",
        "  if i%2 == 0:\n",
        "    print(i,'even')"
      ],
      "metadata": {
        "colab": {
          "base_uri": "https://localhost:8080/"
        },
        "id": "TEJEt7R8epvx",
        "outputId": "8851fc76-8b69-4d30-98ee-439cab1d1052"
      },
      "execution_count": null,
      "outputs": [
        {
          "output_type": "stream",
          "name": "stdout",
          "text": [
            "2 even\n",
            "4 even\n",
            "6 even\n",
            "8 even\n",
            "10 even\n",
            "12 even\n",
            "14 even\n",
            "16 even\n",
            "18 even\n",
            "20 even\n"
          ]
        }
      ]
    },
    {
      "cell_type": "code",
      "source": [
        "for i in range(1,10):\n",
        "  print(i)\n",
        "  if i == 7:\n",
        "    break\n"
      ],
      "metadata": {
        "colab": {
          "base_uri": "https://localhost:8080/"
        },
        "id": "4LPeVs9LfBF8",
        "outputId": "fde8f841-b077-49a0-d89a-8b547493efe6"
      },
      "execution_count": null,
      "outputs": [
        {
          "output_type": "stream",
          "name": "stdout",
          "text": [
            "1\n",
            "2\n",
            "3\n",
            "4\n",
            "5\n",
            "6\n",
            "7\n"
          ]
        }
      ]
    },
    {
      "cell_type": "code",
      "source": [
        "for i in range(50,30,-5):\n",
        "  print(i,end = \" \")"
      ],
      "metadata": {
        "colab": {
          "base_uri": "https://localhost:8080/"
        },
        "id": "ZjlxyA2sfjNS",
        "outputId": "c2f5bdc7-fd67-4b14-925d-3a2b6ee31477"
      },
      "execution_count": null,
      "outputs": [
        {
          "output_type": "stream",
          "name": "stdout",
          "text": [
            "50 45 40 35 "
          ]
        }
      ]
    },
    {
      "cell_type": "code",
      "source": [
        " x = 10\n",
        " y = 9\n",
        " if x > y:\n",
        "  print(\"x=y\")\n",
        " elif x >= y:\n",
        "    print(x>y)\n",
        " else:\n",
        "    print(x<y)\n",
        "\n"
      ],
      "metadata": {
        "colab": {
          "base_uri": "https://localhost:8080/"
        },
        "id": "_Jt_xpHEkO7q",
        "outputId": "02ee2f60-087f-4bfa-93cb-c80f26551125"
      },
      "execution_count": null,
      "outputs": [
        {
          "output_type": "stream",
          "name": "stdout",
          "text": [
            "x=y\n"
          ]
        }
      ]
    },
    {
      "cell_type": "code",
      "source": [
        "for i in range(1500,2700):\n",
        "  if (i/7 == 0 and i*5 ==0):\n",
        "    print(i)"
      ],
      "metadata": {
        "id": "UrsNKgSCwQ1o"
      },
      "execution_count": null,
      "outputs": []
    },
    {
      "cell_type": "code",
      "source": [
        "for i in range(200,300):\n",
        "  if i == 250:\n",
        "    break\n",
        "  print(i,end = \"\")"
      ],
      "metadata": {
        "colab": {
          "base_uri": "https://localhost:8080/"
        },
        "id": "fybChJQY_I2b",
        "outputId": "02088cad-f535-45af-fac1-7a22ca565957"
      },
      "execution_count": null,
      "outputs": [
        {
          "output_type": "stream",
          "name": "stdout",
          "text": [
            "200201202203204205206207208209210211212213214215216217218219220221222223224225226227228229230231232233234235236237238239240241242243244245246247248249"
          ]
        }
      ]
    },
    {
      "cell_type": "code",
      "source": [
        "a = str(input(\"enter your name\"))"
      ],
      "metadata": {
        "colab": {
          "base_uri": "https://localhost:8080/"
        },
        "id": "JEhfCIcbDl2o",
        "outputId": "d7eee3bc-821d-4687-c410-5236e5a74b8e"
      },
      "execution_count": null,
      "outputs": [
        {
          "name": "stdout",
          "output_type": "stream",
          "text": [
            "enter your nameaswini\n"
          ]
        }
      ]
    },
    {
      "cell_type": "code",
      "source": [
        "f = float(input(\"enter a positive number\"))"
      ],
      "metadata": {
        "colab": {
          "base_uri": "https://localhost:8080/"
        },
        "id": "mIE9yAkvIwKX",
        "outputId": "beecce5c-8afd-4bda-9522-5bf31243460a"
      },
      "execution_count": null,
      "outputs": [
        {
          "name": "stdout",
          "output_type": "stream",
          "text": [
            "enter a positive number2\n"
          ]
        }
      ]
    },
    {
      "cell_type": "code",
      "source": [
        "a = int(input(\"enter your bday date\"))\n",
        "b = str(input(\"enter your name\"))\n",
        "print(\"my bday date is\",a)\n",
        "print(\"my name is\",b)"
      ],
      "metadata": {
        "colab": {
          "base_uri": "https://localhost:8080/"
        },
        "id": "Rb-RNwNxI7EC",
        "outputId": "c1905bfb-859b-465f-b765-ae73b0698cab"
      },
      "execution_count": null,
      "outputs": [
        {
          "output_type": "stream",
          "name": "stdout",
          "text": [
            "enter your bday date2\n",
            "enter your nameaswini\n",
            "my bday date is 2\n",
            "my name is aswini\n"
          ]
        }
      ]
    },
    {
      "cell_type": "code",
      "source": [
        "i = 1\n",
        "while i <= 10:\n",
        "  print(i)\n",
        "  i = i + 1"
      ],
      "metadata": {
        "colab": {
          "base_uri": "https://localhost:8080/"
        },
        "id": "1Ze2hZaoKEVI",
        "outputId": "d0cadf66-5555-4c83-a31d-eaa20fff12a0"
      },
      "execution_count": null,
      "outputs": [
        {
          "output_type": "stream",
          "name": "stdout",
          "text": [
            "1\n",
            "2\n",
            "3\n",
            "4\n",
            "5\n",
            "6\n",
            "7\n",
            "8\n",
            "9\n",
            "10\n"
          ]
        }
      ]
    },
    {
      "cell_type": "code",
      "source": [
        "#factorial of number\n",
        "n = 8\n",
        "r = 1\n",
        "for i in range(1,n+1):\n",
        " r = r*i\n",
        " print(r)"
      ],
      "metadata": {
        "id": "H2V9j3Z7L7RO",
        "colab": {
          "base_uri": "https://localhost:8080/"
        },
        "outputId": "3870642b-97f2-45c9-9d1e-f64dad661611"
      },
      "execution_count": null,
      "outputs": [
        {
          "output_type": "stream",
          "name": "stdout",
          "text": [
            "1\n",
            "2\n",
            "6\n",
            "24\n",
            "120\n",
            "720\n",
            "5040\n",
            "40320\n"
          ]
        }
      ]
    },
    {
      "cell_type": "code",
      "source": [
        "# sum of the digits\n",
        "n = 789\n",
        "r = 0\n",
        "a = str(n)\n",
        "for b in a:\n",
        "  r = r + int(b)\n",
        "  print(r)"
      ],
      "metadata": {
        "colab": {
          "base_uri": "https://localhost:8080/"
        },
        "id": "it5ZxrB5iFS6",
        "outputId": "819a7bb3-06ca-4464-b88e-97e0131caea8"
      },
      "execution_count": null,
      "outputs": [
        {
          "output_type": "stream",
          "name": "stdout",
          "text": [
            "7\n",
            "15\n",
            "24\n"
          ]
        }
      ]
    },
    {
      "cell_type": "code",
      "source": [
        "# number of values in list without using len function\n",
        "a = [1,2,3,4,5]\n",
        "r = 0\n",
        "for i in a:\n",
        "  r = r + 1\n",
        "print(r)"
      ],
      "metadata": {
        "colab": {
          "base_uri": "https://localhost:8080/"
        },
        "id": "eGkA5qpKjTiQ",
        "outputId": "be43a35e-4850-4a54-b03e-2dbf738c728c"
      },
      "execution_count": null,
      "outputs": [
        {
          "output_type": "stream",
          "name": "stdout",
          "text": [
            "5\n"
          ]
        }
      ]
    },
    {
      "cell_type": "code",
      "source": [
        "#nested statements\n",
        "for i in range(1,11):\n",
        "  for j in range(2,5):\n",
        "    print(i + j,end = \" \")"
      ],
      "metadata": {
        "colab": {
          "base_uri": "https://localhost:8080/"
        },
        "id": "CnL2MsBRk-9I",
        "outputId": "1acf96ee-273b-48f0-d1d6-062bac87d005"
      },
      "execution_count": null,
      "outputs": [
        {
          "output_type": "stream",
          "name": "stdout",
          "text": [
            "3 4 5 4 5 6 5 6 7 6 7 8 7 8 9 8 9 10 9 10 11 10 11 12 11 12 13 12 13 14 "
          ]
        }
      ]
    },
    {
      "cell_type": "code",
      "source": [
        "\n",
        "for i in range(5):\n",
        "  for j in range(5):\n",
        "    print('*',end = \" \")\n",
        "    print()\n"
      ],
      "metadata": {
        "colab": {
          "base_uri": "https://localhost:8080/"
        },
        "id": "xEZWNe1Zl_0B",
        "outputId": "9f5c7880-ba20-4502-ce59-11c946a96a6f"
      },
      "execution_count": null,
      "outputs": [
        {
          "output_type": "stream",
          "name": "stdout",
          "text": [
            "* \n",
            "* \n",
            "* \n",
            "* \n",
            "* \n",
            "* \n",
            "* \n",
            "* \n",
            "* \n",
            "* \n",
            "* \n",
            "* \n",
            "* \n",
            "* \n",
            "* \n",
            "* \n",
            "* \n",
            "* \n",
            "* \n",
            "* \n",
            "* \n",
            "* \n",
            "* \n",
            "* \n",
            "* \n"
          ]
        }
      ]
    },
    {
      "cell_type": "code",
      "source": [
        "n = 101\n",
        "b = str(n)\n",
        "print(f'value in b = {b}')\n",
        "c = b[::-1]\n",
        "print(f'value in c = {c}')\n",
        "if b == c:\n",
        "  print(\"is a palindrome\")\n",
        "else:\n",
        "    print(\"is not a palindrome\")\n"
      ],
      "metadata": {
        "colab": {
          "base_uri": "https://localhost:8080/"
        },
        "id": "vhOf2eeIm-x8",
        "outputId": "28a13317-fbfa-41e0-c022-d4c3306390ca"
      },
      "execution_count": null,
      "outputs": [
        {
          "output_type": "stream",
          "name": "stdout",
          "text": [
            "value in b = 101\n",
            "value in c = 101\n",
            "is a palindrome\n"
          ]
        }
      ]
    },
    {
      "cell_type": "code",
      "source": [
        "#fibonacci series\n",
        "n = 8\n",
        "a = 0\n",
        "b = 1\n",
        "for i in range(n - 2):\n",
        "  c = a + b\n",
        "  print(c)\n",
        "  a = b\n",
        "  b = c"
      ],
      "metadata": {
        "colab": {
          "base_uri": "https://localhost:8080/"
        },
        "id": "2K0TVbF4p1Ca",
        "outputId": "0950346b-b1ea-40c5-f1ac-901d55a76e03"
      },
      "execution_count": null,
      "outputs": [
        {
          "output_type": "stream",
          "name": "stdout",
          "text": [
            "1\n",
            "2\n",
            "3\n",
            "5\n",
            "8\n",
            "13\n"
          ]
        }
      ]
    },
    {
      "cell_type": "code",
      "source": [
        "\n"
      ],
      "metadata": {
        "id": "EhIXv8hwwvRz"
      },
      "execution_count": null,
      "outputs": []
    }
  ]
}