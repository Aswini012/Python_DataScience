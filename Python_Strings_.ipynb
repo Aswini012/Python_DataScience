{
  "cells": [
    {
      "cell_type": "markdown",
      "id": "db689fc2",
      "metadata": {
        "id": "db689fc2"
      },
      "source": [
        "### Question 1: Write a Python program to count the number of characters in a string without using len function.\n",
        "\n",
        "- `sample input : `\n",
        "    - `var = 'python java'`\n",
        "- `sample output :`\n",
        "    - `result : 11`"
      ]
    },
    {
      "cell_type": "code",
      "execution_count": null,
      "id": "c9ce9180",
      "metadata": {
        "id": "c9ce9180",
        "outputId": "121e9edd-459f-4220-a2f2-2c610f91af3d",
        "colab": {
          "base_uri": "https://localhost:8080/"
        }
      },
      "outputs": [
        {
          "output_type": "stream",
          "name": "stdout",
          "text": [
            "7\n"
          ]
        }
      ],
      "source": [
        "# Please write The solution Here for above question 1:\n",
        "a = \"someone\"\n",
        "c = 0\n",
        "for i in a:\n",
        "  c = c + 1\n",
        "print(c)\n",
        "\n",
        "\n"
      ]
    },
    {
      "cell_type": "markdown",
      "id": "46f069cc",
      "metadata": {
        "id": "46f069cc"
      },
      "source": [
        "### Question 2: Write a Python program to reverse a string without using [::-1]\n",
        "\n",
        "- `sample input : `\n",
        "    - `var = 'python'`\n",
        "- `sample output :`\n",
        "    - `result : nohtyp`"
      ]
    },
    {
      "cell_type": "code",
      "execution_count": null,
      "id": "2cde3dcc",
      "metadata": {
        "id": "2cde3dcc",
        "outputId": "d5e3c540-e94a-4dec-a7d9-7896c40ec453",
        "colab": {
          "base_uri": "https://localhost:8080/"
        }
      },
      "outputs": [
        {
          "output_type": "stream",
          "name": "stdout",
          "text": [
            "iniwsa \n"
          ]
        }
      ],
      "source": [
        "# Please write The solution Here for above question 2:\n",
        "a = \"aswini\"\n",
        "c = \" \"\n",
        "for i in a:\n",
        "  c = i + c\n",
        "print(c)\n",
        "\n",
        "\n"
      ]
    },
    {
      "cell_type": "markdown",
      "id": "0f3a2ef5",
      "metadata": {
        "id": "0f3a2ef5"
      },
      "source": [
        "### Question 3: Write a Python program to check if a string is a palindrome don't use [::-1].\n",
        "\n",
        "- `sample input : `\n",
        "    - `var = 'NUN'`\n",
        "- `sample output :`\n",
        "    - `result : It is a Palindrome`\n",
        "    \n",
        "- `palindrome concept = https://www.dictionary.com/e/palindromic-word/#:~:text=A%20palindrome%20is%20a%20word,roots%20in%20the%20early%201600s.`"
      ]
    },
    {
      "cell_type": "code",
      "execution_count": null,
      "id": "74b9f01a",
      "metadata": {
        "id": "74b9f01a",
        "outputId": "2c8ffafc-5aa7-4ed3-e8bd-6e078f38d9a3",
        "colab": {
          "base_uri": "https://localhost:8080/"
        }
      },
      "outputs": [
        {
          "output_type": "stream",
          "name": "stdout",
          "text": [
            "It is a palindrome\n"
          ]
        }
      ],
      "source": [
        "# Please write The solution Here for above question 3:\n",
        "a = \"pop\"\n",
        "n = a\n",
        "b = \"\"\n",
        "for i in n:\n",
        "  b = i + b\n",
        "if a == b:\n",
        "  print(\"It is a palindrome\")\n",
        "else:\n",
        "  print(\"It is not a palindrome\")\n",
        "\n",
        "\n"
      ]
    },
    {
      "cell_type": "markdown",
      "id": "98e0fc60",
      "metadata": {
        "id": "98e0fc60"
      },
      "source": [
        "### Question 4: Write a Python program to find the most common character in a string.\n",
        "\n",
        "- `sample input : `\n",
        "    - `var = 'Hello world '`\n",
        "- `sample output :`\n",
        "    - `result : l, because l is repeating 3 times `"
      ]
    },
    {
      "cell_type": "code",
      "execution_count": 3,
      "id": "d9aa4ca6",
      "metadata": {
        "id": "d9aa4ca6",
        "colab": {
          "base_uri": "https://localhost:8080/"
        },
        "outputId": "aa7bb346-b2ce-4c27-b654-d128c7feac3d"
      },
      "outputs": [
        {
          "output_type": "stream",
          "name": "stdout",
          "text": [
            "l\n"
          ]
        }
      ],
      "source": [
        "# Please write The solution Here for above question 4:\n",
        "a = \"lulu mall\"\n",
        "b = {}\n",
        "c = ''\n",
        "for i in a :\n",
        "  if i not in b:\n",
        "    b[i] = 1\n",
        "  else:\n",
        "    b[i] = b[i] + 1\n",
        "c = max(b.values())\n",
        "c = i\n",
        "print(c)\n",
        "\n",
        "\n",
        "\n"
      ]
    },
    {
      "cell_type": "markdown",
      "id": "17eb44eb",
      "metadata": {
        "id": "17eb44eb"
      },
      "source": [
        "### Question 5: Write a Python program to check if two strings are anagrams.\n",
        "\n",
        "- `sample input : `\n",
        "    - `var1 = 'listen'`\n",
        "    - `var2 = 'silent'`\n",
        "- `sample output :`\n",
        "    - `result : both are anagram because characters in var2 is in var1`"
      ]
    },
    {
      "cell_type": "code",
      "execution_count": 2,
      "id": "29f0e87e",
      "metadata": {
        "id": "29f0e87e",
        "outputId": "95cac630-d46c-45d2-c4e1-1fe9777607f8",
        "colab": {
          "base_uri": "https://localhost:8080/"
        }
      },
      "outputs": [
        {
          "output_type": "stream",
          "name": "stdout",
          "text": [
            "anagrams\n"
          ]
        }
      ],
      "source": [
        "# Please write The solution Here for above question 5:\n",
        "a = \"one\"\n",
        "b = \"eno\"\n",
        "if sorted(a) == sorted(b):\n",
        "  print(\"anagrams\")\n",
        "else:\n",
        "  print(\"not anagram\")\n",
        "\n",
        "\n",
        "\n"
      ]
    },
    {
      "cell_type": "markdown",
      "id": "fac17884",
      "metadata": {
        "id": "fac17884"
      },
      "source": [
        "### Question 6: Write a Python program to remove all the vowels from a string.\n",
        "\n",
        "- `sample input : `\n",
        "    - `var = 'python'`\n",
        "- `sample output :`\n",
        "    - `result : pythn , because vowels are [AEIOUaeiou]`"
      ]
    },
    {
      "cell_type": "code",
      "execution_count": null,
      "id": "f4b33095",
      "metadata": {
        "id": "f4b33095",
        "outputId": "cb7d915c-b8d7-434c-840a-7528c35fae1d",
        "colab": {
          "base_uri": "https://localhost:8080/"
        }
      },
      "outputs": [
        {
          "output_type": "stream",
          "name": "stdout",
          "text": [
            "pythn\n"
          ]
        }
      ],
      "source": [
        "# Please write The solution Here for above question 6:\n",
        "a = \"python\"\n",
        "b = \"\"\n",
        "for i in a:\n",
        "  if i not in \"AEIOUaeiou\":\n",
        "    b = b + i\n",
        "print(b)\n",
        "\n",
        "\n",
        "\n"
      ]
    },
    {
      "cell_type": "markdown",
      "id": "2170d6f4",
      "metadata": {
        "id": "2170d6f4"
      },
      "source": [
        "### Question 7: Write a Python program to find the longest word in a string.\n",
        "\n",
        "- `sample input : `\n",
        "    - `var = 'python is Easy Language'`\n",
        "- `sample output :`\n",
        "    - `result : Language`"
      ]
    },
    {
      "cell_type": "code",
      "execution_count": null,
      "id": "f35de8b3",
      "metadata": {
        "id": "f35de8b3",
        "outputId": "529e47d3-ad37-4497-a39d-1a4d86e0202e",
        "colab": {
          "base_uri": "https://localhost:8080/"
        }
      },
      "outputs": [
        {
          "output_type": "stream",
          "name": "stdout",
          "text": [
            "python\n"
          ]
        }
      ],
      "source": [
        "# Please write The solution Here for above question 7:\n",
        "a = \" python is easy\"\n",
        "b = a.split()\n",
        "c = 0\n",
        "for i in b:\n",
        "  if len(i) > c:\n",
        "    c = len(i)\n",
        "    d = i\n",
        "print(d)\n",
        "\n",
        "\n"
      ]
    },
    {
      "cell_type": "markdown",
      "id": "f349bdb7",
      "metadata": {
        "id": "f349bdb7"
      },
      "source": [
        "### Question 8: Write a Python program to capitalize the first letter of each word in a string [dont use built-in-function title].\n",
        "\n",
        "- `sample input : `\n",
        "    - `var = 'python is easy'`\n",
        "- `sample output :`\n",
        "    - `result : Python Is Easy`"
      ]
    },
    {
      "cell_type": "code",
      "execution_count": 4,
      "id": "a1b4c4e6",
      "metadata": {
        "id": "a1b4c4e6",
        "colab": {
          "base_uri": "https://localhost:8080/"
        },
        "outputId": "978d8296-86cc-4338-e4aa-6d1ea77fb119"
      },
      "outputs": [
        {
          "output_type": "stream",
          "name": "stdout",
          "text": [
            "I Love My Country\n"
          ]
        }
      ],
      "source": [
        "# Please write The solution Here for above question 8:\n",
        "a = \"i love my country\"\n",
        "b = a.split()\n",
        "c = []\n",
        "for i in b:\n",
        "  d = i[0].upper()+i[1:]\n",
        "  c.append(d)\n",
        "e =' '.join(c)\n",
        "print(e)\n",
        "\n",
        "\n",
        "\n"
      ]
    },
    {
      "cell_type": "markdown",
      "id": "d2770696",
      "metadata": {
        "id": "d2770696"
      },
      "source": [
        "### Question 9: Write a Python program to find the frequency of each character in a string.\n",
        "\n",
        "- `sample input : `\n",
        "    - `var = 'sharuk khan'`\n",
        "- `sample output :`\n",
        "    - `result : {'s': 1, 'h': 2, 'a': 2, 'r': 1, 'u': 1, 'k': 2, ' ': 1, 'n': 1}`"
      ]
    },
    {
      "cell_type": "code",
      "execution_count": null,
      "id": "7fdc2e9c",
      "metadata": {
        "id": "7fdc2e9c",
        "outputId": "b04cf8e1-07f7-4ffd-fed6-4bfd9fcac093",
        "colab": {
          "base_uri": "https://localhost:8080/"
        }
      },
      "outputs": [
        {
          "output_type": "stream",
          "name": "stdout",
          "text": [
            "{'o': 1, 'n': 1, 'e': 2, ' ': 1, 't': 1, 'i': 1, 'm': 1}\n"
          ]
        }
      ],
      "source": [
        "# Please write The solution Here for above question 9:\n",
        "a = \"one time\"\n",
        "b = {}\n",
        "for i in a:\n",
        "  if i not in b:\n",
        "    b[i] = 1\n",
        "  else:\n",
        "    b[i] = b[i] + 1\n",
        "    print(b)"
      ]
    },
    {
      "cell_type": "markdown",
      "id": "5c9a3f09",
      "metadata": {
        "id": "5c9a3f09"
      },
      "source": [
        "### Question 10: write a python programme to find the sum of all the even characters based on Ascii values\n",
        "\n",
        "- `sample input : `\n",
        "    - `var = 'sharuk khan'`\n",
        "- `sample output :`\n",
        "    - `result : 464`\n"
      ]
    },
    {
      "cell_type": "code",
      "execution_count": null,
      "id": "57c0c30e",
      "metadata": {
        "id": "57c0c30e",
        "outputId": "414570a9-0185-4af6-d631-29de4050f247",
        "colab": {
          "base_uri": "https://localhost:8080/"
        }
      },
      "outputs": [
        {
          "output_type": "stream",
          "name": "stdout",
          "text": [
            "258\n"
          ]
        }
      ],
      "source": [
        "# Please write The solution Here for above question 10:\n",
        "a = \"one time\"\n",
        "b = 0\n",
        "for i in a:\n",
        "  if ord(i) % 2 == 0:\n",
        "    b = b + ord(i)\n",
        "print(b)\n",
        "\n",
        "\n",
        "\n",
        "# saikamal9797@gmail.com"
      ]
    },
    {
      "cell_type": "code",
      "execution_count": null,
      "id": "0cb2936c",
      "metadata": {
        "id": "0cb2936c"
      },
      "outputs": [],
      "source": []
    }
  ],
  "metadata": {
    "kernelspec": {
      "display_name": "Python 3 (ipykernel)",
      "language": "python",
      "name": "python3"
    },
    "language_info": {
      "codemirror_mode": {
        "name": "ipython",
        "version": 3
      },
      "file_extension": ".py",
      "mimetype": "text/x-python",
      "name": "python",
      "nbconvert_exporter": "python",
      "pygments_lexer": "ipython3",
      "version": "3.11.5"
    },
    "colab": {
      "provenance": []
    }
  },
  "nbformat": 4,
  "nbformat_minor": 5
}