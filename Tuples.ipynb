{
  "nbformat": 4,
  "nbformat_minor": 0,
  "metadata": {
    "colab": {
      "provenance": []
    },
    "kernelspec": {
      "name": "python3",
      "display_name": "Python 3"
    },
    "language_info": {
      "name": "python"
    }
  },
  "cells": [
    {
      "cell_type": "code",
      "execution_count": null,
      "metadata": {
        "colab": {
          "base_uri": "https://localhost:8080/"
        },
        "id": "E0JOt4BFs8IZ",
        "outputId": "922eb24c-b6a7-49e4-f644-e6f88ff2aa4f"
      },
      "outputs": [
        {
          "output_type": "stream",
          "name": "stdout",
          "text": [
            "1\n",
            "1\n"
          ]
        }
      ],
      "source": [
        "a = (1,2,3,\"anu\")\n",
        "print(a.count(3))\n",
        "print(a.index(2))"
      ]
    },
    {
      "cell_type": "code",
      "source": [
        "#sets\n",
        "a = {1,2,3,4,5,6,5,4,3}\n",
        "print(f'before adding:{a}')\n",
        "a.add(9)\n",
        "print(a)\n"
      ],
      "metadata": {
        "id": "Fdwt1_DYtRkD",
        "colab": {
          "base_uri": "https://localhost:8080/"
        },
        "outputId": "30463826-5593-4e6e-8282-af737c5d0070"
      },
      "execution_count": null,
      "outputs": [
        {
          "output_type": "stream",
          "name": "stdout",
          "text": [
            "before adding:{1, 2, 3, 4, 5, 6}\n",
            "{1, 2, 3, 4, 5, 6, 9}\n"
          ]
        }
      ]
    },
    {
      "cell_type": "code",
      "source": [
        "a = {1,2,3,4,5,6,7,8,9}\n",
        "a.update({9,10,11})\n",
        "print(a)"
      ],
      "metadata": {
        "colab": {
          "base_uri": "https://localhost:8080/"
        },
        "id": "ksEcos45wkf6",
        "outputId": "bcc0200c-f35c-4f18-9a98-f8b94778617d"
      },
      "execution_count": null,
      "outputs": [
        {
          "output_type": "stream",
          "name": "stdout",
          "text": [
            "{1, 2, 3, 4, 5, 6, 7, 8, 9, 10, 11}\n"
          ]
        }
      ]
    },
    {
      "cell_type": "code",
      "source": [
        "a = {1,2,3,4,5,6,7,8,9}\n",
        "a.pop()\n",
        "print(a)"
      ],
      "metadata": {
        "colab": {
          "base_uri": "https://localhost:8080/"
        },
        "id": "hd7DLSGXydoF",
        "outputId": "c83c1ae6-d535-4996-cb6f-a4c298062c93"
      },
      "execution_count": null,
      "outputs": [
        {
          "output_type": "stream",
          "name": "stdout",
          "text": [
            "{2, 3, 4, 5, 6, 7, 8, 9}\n"
          ]
        }
      ]
    },
    {
      "cell_type": "code",
      "source": [
        "a = {1,2,3,4,5,6,7,8,9}\n",
        "a.remove(5)\n",
        "print(a)"
      ],
      "metadata": {
        "colab": {
          "base_uri": "https://localhost:8080/"
        },
        "id": "UDD7OGWJy2EC",
        "outputId": "4c2c6cdd-6f30-4133-8b3c-29d993110bca"
      },
      "execution_count": null,
      "outputs": [
        {
          "output_type": "stream",
          "name": "stdout",
          "text": [
            "{1, 2, 3, 4, 6, 7, 8, 9}\n"
          ]
        }
      ]
    },
    {
      "cell_type": "code",
      "source": [],
      "metadata": {
        "id": "TjFjg-Ziy73E"
      },
      "execution_count": null,
      "outputs": []
    }
  ]
}