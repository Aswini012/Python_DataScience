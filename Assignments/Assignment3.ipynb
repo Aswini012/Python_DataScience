{
  "nbformat": 4,
  "nbformat_minor": 0,
  "metadata": {
    "colab": {
      "provenance": []
    },
    "kernelspec": {
      "name": "python3",
      "display_name": "Python 3"
    },
    "language_info": {
      "name": "python"
    }
  },
  "cells": [
    {
      "cell_type": "code",
      "execution_count": null,
      "metadata": {
        "colab": {
          "base_uri": "https://localhost:8080/"
        },
        "id": "1Cx2ACZFoxK9",
        "outputId": "7cc665ec-32fd-4a1f-9513-269c21240b0e"
      },
      "outputs": [
        {
          "output_type": "stream",
          "name": "stdout",
          "text": [
            "h\n"
          ]
        }
      ],
      "source": [
        "#1\n",
        "print(''.join([i for i in 'hai' if i not in ['a','e','i','o','u']]))\n",
        "\n"
      ]
    },
    {
      "cell_type": "code",
      "source": [
        "#2\n",
        "print(''.join([i for i in 'data' if i in ['a','e','i','o','u']]))"
      ],
      "metadata": {
        "colab": {
          "base_uri": "https://localhost:8080/"
        },
        "id": "IpIdw0jqtlXi",
        "outputId": "4fe58b23-24a2-4a35-b8e3-75d925d8e801"
      },
      "execution_count": null,
      "outputs": [
        {
          "output_type": "stream",
          "name": "stdout",
          "text": [
            "aa\n"
          ]
        }
      ]
    },
    {
      "cell_type": "code",
      "source": [
        "# 3\n",
        "a = [2,3,4,5]\n",
        "b = []\n",
        "for i in range(len(a)):\n",
        "  c = a[i]\n",
        "  b.append(int(str(c)+str(i)))\n",
        "\n",
        "print(b)\n",
        "\n",
        "\n",
        "\n",
        "\n",
        "\n"
      ],
      "metadata": {
        "colab": {
          "base_uri": "https://localhost:8080/"
        },
        "id": "QT24wpAKuHtb",
        "outputId": "46fcce49-75a8-48da-a0f7-743fe43b6757"
      },
      "execution_count": null,
      "outputs": [
        {
          "output_type": "stream",
          "name": "stdout",
          "text": [
            "[20, 31, 42, 53]\n"
          ]
        }
      ]
    },
    {
      "cell_type": "code",
      "source": [
        "# 4\n",
        "for i in range(1,50):\n",
        "    if i%2!=0 or i%3!=0:\n",
        "        print(i,end=\" \")"
      ],
      "metadata": {
        "colab": {
          "base_uri": "https://localhost:8080/"
        },
        "id": "oxICDUK3u7NS",
        "outputId": "2fbfc00c-447a-4455-b864-d2ee8201b4c2"
      },
      "execution_count": null,
      "outputs": [
        {
          "output_type": "stream",
          "name": "stdout",
          "text": [
            "1 2 3 4 5 7 8 9 10 11 13 14 15 16 17 19 20 21 22 23 25 26 27 28 29 31 32 33 34 35 37 38 39 40 41 43 44 45 46 47 49 "
          ]
        }
      ]
    },
    {
      "cell_type": "code",
      "source": [
        "#5\n",
        "n = int(input())\n",
        "a = []\n",
        "for i in range(2,n+1):\n",
        "    if n%i==0:\n",
        "        a.append(i)\n",
        "a.sort()\n",
        "print(\"smallest divisor:\",a[0])\n",
        "\n"
      ],
      "metadata": {
        "colab": {
          "base_uri": "https://localhost:8080/"
        },
        "id": "OG2eNzb91uIB",
        "outputId": "61d0275c-a20e-47b1-d0e2-71c1d93a8c98"
      },
      "execution_count": null,
      "outputs": [
        {
          "output_type": "stream",
          "name": "stdout",
          "text": [
            "20\n",
            "smallest divisor: 2\n"
          ]
        }
      ]
    },
    {
      "cell_type": "code",
      "source": [
        "#6\n",
        "number = int(input())\n",
        "a = str(number)\n",
        "b = 0\n",
        "for i in a:\n",
        "    n = int(i)\n",
        "    factorial = 1\n",
        "    for j in range(1,n+1):\n",
        "        factorial = factorial * j\n",
        "    b = b + factorial\n",
        "if b == number:\n",
        "    print(f\"{number} is a strong number\")\n",
        "else:\n",
        "    print(f\"{number} is not a strong number\")\n",
        "\n",
        "\n",
        "\n",
        "\n"
      ],
      "metadata": {
        "id": "ft-76Y4D4VGD",
        "colab": {
          "base_uri": "https://localhost:8080/"
        },
        "outputId": "2cda3d18-66ae-40cf-b48d-ff6f040fd2ff"
      },
      "execution_count": 6,
      "outputs": [
        {
          "output_type": "stream",
          "name": "stdout",
          "text": [
            "234\n",
            "234 is not a strong number\n"
          ]
        }
      ]
    },
    {
      "cell_type": "code",
      "source": [
        "#7\n",
        "a = str(input())\n",
        "b = a.upper()\n",
        "print(b)\n",
        "c = a.lower()\n",
        "print(c)"
      ],
      "metadata": {
        "id": "rFmkVIHM72NR",
        "colab": {
          "base_uri": "https://localhost:8080/"
        },
        "outputId": "70f383cb-3e11-468f-8698-54748c3b61f6"
      },
      "execution_count": null,
      "outputs": [
        {
          "output_type": "stream",
          "name": "stdout",
          "text": [
            "Hello World\n",
            "HELLO WORLD\n",
            "hello world\n"
          ]
        }
      ]
    },
    {
      "cell_type": "code",
      "source": [
        "#8\n",
        "a = \"united states\"\n",
        "b = a.replace(\" \",\"\")\n",
        "print(b)"
      ],
      "metadata": {
        "colab": {
          "base_uri": "https://localhost:8080/"
        },
        "id": "YbroUQv5-dMn",
        "outputId": "d34734d7-a506-45bf-962b-31e882213051"
      },
      "execution_count": null,
      "outputs": [
        {
          "output_type": "stream",
          "name": "stdout",
          "text": [
            "unitedstates\n"
          ]
        }
      ]
    },
    {
      "cell_type": "code",
      "source": [
        "#9\n",
        "a =str(input())\n",
        "b = a.split()\n",
        "result = []\n",
        "\n",
        "for i in b:\n",
        "    if len(i) > 1:\n",
        "      c = i[0].upper() + i[1:-1] + i[-1].upper()\n",
        "    else:\n",
        "        c = i.upper()\n",
        "    result.append(c)\n",
        "\n",
        "d = ' '.join(result)\n",
        "print(d)\n",
        "\n",
        "\n"
      ],
      "metadata": {
        "colab": {
          "base_uri": "https://localhost:8080/"
        },
        "id": "BHB4TZTZ_ZAr",
        "outputId": "57768566-f48a-436a-bccc-7d3eaf04b42c"
      },
      "execution_count": 5,
      "outputs": [
        {
          "output_type": "stream",
          "name": "stdout",
          "text": [
            "this is john\n",
            "ThiS IS JohN\n"
          ]
        }
      ]
    },
    {
      "cell_type": "code",
      "source": [
        "#10\n",
        "a = [10,20,30,40,50]\n",
        "b = 0\n",
        "for i in a:\n",
        "  b = b + 1\n",
        "print(b)"
      ],
      "metadata": {
        "colab": {
          "base_uri": "https://localhost:8080/"
        },
        "id": "rDWHJTn5Csbp",
        "outputId": "d9ebed8f-e547-4190-e612-9bc6e029bcc9"
      },
      "execution_count": null,
      "outputs": [
        {
          "output_type": "stream",
          "name": "stdout",
          "text": [
            "5\n"
          ]
        }
      ]
    },
    {
      "cell_type": "code",
      "source": [],
      "metadata": {
        "id": "ZH8y8Q2gEFi2"
      },
      "execution_count": null,
      "outputs": []
    }
  ]
}