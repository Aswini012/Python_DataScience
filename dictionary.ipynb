{
  "nbformat": 4,
  "nbformat_minor": 0,
  "metadata": {
    "colab": {
      "provenance": []
    },
    "kernelspec": {
      "name": "python3",
      "display_name": "Python 3"
    },
    "language_info": {
      "name": "python"
    }
  },
  "cells": [
    {
      "cell_type": "code",
      "execution_count": null,
      "metadata": {
        "colab": {
          "base_uri": "https://localhost:8080/"
        },
        "id": "fOUS2wYsdO1o",
        "outputId": "a43d33db-7950-4b02-e516-a9d9eae85b78"
      },
      "outputs": [
        {
          "output_type": "stream",
          "name": "stdout",
          "text": [
            "{'banana': 100, 'apple': 200, 'guava': 300, 'carrot': 400}\n",
            "<class 'dict'>\n"
          ]
        }
      ],
      "source": [
        "fruits = {\"banana\":100,\"apple\":200,\"guava\":300,\"carrot\":400}\n",
        "print(fruits)\n",
        "print(type(fruits))"
      ]
    },
    {
      "cell_type": "code",
      "source": [
        "fruits = {\"banana\":100,\"apple\":200,\"guava\":300,\"carrot\":300}\n",
        "print(fruits)"
      ],
      "metadata": {
        "colab": {
          "base_uri": "https://localhost:8080/"
        },
        "id": "BP1_XjPzd0X3",
        "outputId": "ecb4428d-8598-4f25-bf6b-78a7ed227c2b"
      },
      "execution_count": null,
      "outputs": [
        {
          "output_type": "stream",
          "name": "stdout",
          "text": [
            "{'banana': 100, 'apple': 200, 'guava': 300, 'carrot': 300}\n"
          ]
        }
      ]
    },
    {
      "cell_type": "code",
      "source": [
        "fruits = {\"banana\":100,\"apple\":200,\"guava\":300,\"banana\":400}\n",
        "print(fruits)"
      ],
      "metadata": {
        "colab": {
          "base_uri": "https://localhost:8080/"
        },
        "id": "1cwoHHK5eyu8",
        "outputId": "19bf6532-4aae-4c97-f0d4-41e9bbfe4ffb"
      },
      "execution_count": null,
      "outputs": [
        {
          "output_type": "stream",
          "name": "stdout",
          "text": [
            "{'banana': 400, 'apple': 200, 'guava': 300}\n"
          ]
        }
      ]
    },
    {
      "cell_type": "code",
      "source": [
        "fruits = {\"banana\":100,\"apple\":200,\"guava\":300,\"carrot\":400}\n",
        "print(fruits[\"carrot\"])"
      ],
      "metadata": {
        "colab": {
          "base_uri": "https://localhost:8080/"
        },
        "id": "usGY574WfEb0",
        "outputId": "fd64971e-7318-465b-83ad-c749e22bca09"
      },
      "execution_count": null,
      "outputs": [
        {
          "output_type": "stream",
          "name": "stdout",
          "text": [
            "400\n"
          ]
        }
      ]
    },
    {
      "cell_type": "code",
      "source": [
        "a = {\"age\":[10,20,30],\"location\":[\"hyd\",\"banglore\",\"chennai\"],\"salary\":[1000,2000,3000]}\n",
        "print(a[\"location\"])"
      ],
      "metadata": {
        "colab": {
          "base_uri": "https://localhost:8080/"
        },
        "id": "AwmGHqVsfWQo",
        "outputId": "0913f4ff-8bf9-4150-8ecf-5428a32f3bd0"
      },
      "execution_count": null,
      "outputs": [
        {
          "output_type": "stream",
          "name": "stdout",
          "text": [
            "['hyd', 'banglore', 'chennai']\n"
          ]
        }
      ]
    },
    {
      "cell_type": "code",
      "source": [
        "a = {\"age\":[10,20,30],\"location\":[\"hyd\",\"banglore\",\"chennai\"],\"salary\":[1000,2000,3000]}\n",
        "print(a[\"age\"][2])"
      ],
      "metadata": {
        "colab": {
          "base_uri": "https://localhost:8080/"
        },
        "id": "5bQ9FgYdhJez",
        "outputId": "46a831cc-fdd7-46c0-b06a-0f632f156731"
      },
      "execution_count": null,
      "outputs": [
        {
          "output_type": "stream",
          "name": "stdout",
          "text": [
            "30\n"
          ]
        }
      ]
    },
    {
      "cell_type": "code",
      "source": [
        "fruits = {\"banana\":100,\"apple\":200,\"guava\":300,\"banana\":400}\n",
        "print(f\"before adding: {fruits}\")\n",
        "fruits[\"mango\"] = 500\n",
        "print(f\"after adding: {fruits}\")"
      ],
      "metadata": {
        "colab": {
          "base_uri": "https://localhost:8080/"
        },
        "id": "spHdvX9hhnod",
        "outputId": "a8ebae3c-c418-4218-ff5a-194ea3fcd854"
      },
      "execution_count": null,
      "outputs": [
        {
          "output_type": "stream",
          "name": "stdout",
          "text": [
            "before adding: {'banana': 400, 'apple': 200, 'guava': 300}\n",
            "after adding: {'banana': 400, 'apple': 200, 'guava': 300, 'mango': 500}\n"
          ]
        }
      ]
    },
    {
      "cell_type": "code",
      "source": [
        "fruits = {\"banana\":100,\"apple\":200,\"guava\":300,\"banana\":400}\n",
        "print(f\"before deleting: {fruits}\")\n",
        "del fruits[\"banana\"]\n",
        "print(f\"after deleting: {fruits}\")"
      ],
      "metadata": {
        "colab": {
          "base_uri": "https://localhost:8080/"
        },
        "id": "KLwRNQB5iE20",
        "outputId": "171b365c-54dc-41c9-85c4-aa16e0001f8b"
      },
      "execution_count": null,
      "outputs": [
        {
          "output_type": "stream",
          "name": "stdout",
          "text": [
            "before deleting: {'banana': 400, 'apple': 200, 'guava': 300}\n",
            "after deleting: {'apple': 200, 'guava': 300}\n"
          ]
        }
      ]
    },
    {
      "cell_type": "code",
      "source": [
        "fruits = {}\n",
        "print(\"fruits\")\n",
        "fruits = {\"banana\":200,\"apple\":300,\"guava\":400}\n",
        "print(fruits)"
      ],
      "metadata": {
        "colab": {
          "base_uri": "https://localhost:8080/"
        },
        "id": "qMXSAZHwiUZr",
        "outputId": "c89b073d-e1cc-4e4f-b315-d21c75c60de6"
      },
      "execution_count": null,
      "outputs": [
        {
          "output_type": "stream",
          "name": "stdout",
          "text": [
            "fruits\n",
            "{'banana': 200, 'apple': 300, 'guava': 400}\n"
          ]
        }
      ]
    },
    {
      "cell_type": "code",
      "source": [
        "fruits = {\"banana\":200,\"apple\":300,\"guava\":400}\n",
        "del(fruits{banana})\n",
        "print(\"fruits\")"
      ],
      "metadata": {
        "colab": {
          "base_uri": "https://localhost:8080/",
          "height": 106
        },
        "id": "1TwK1kffi28P",
        "outputId": "8cc69315-ca39-4da6-c42f-b834db39db5c"
      },
      "execution_count": null,
      "outputs": [
        {
          "output_type": "error",
          "ename": "SyntaxError",
          "evalue": "invalid syntax. Perhaps you forgot a comma? (<ipython-input-19-cbb257325206>, line 2)",
          "traceback": [
            "\u001b[0;36m  File \u001b[0;32m\"<ipython-input-19-cbb257325206>\"\u001b[0;36m, line \u001b[0;32m2\u001b[0m\n\u001b[0;31m    del(fruits{banana})\u001b[0m\n\u001b[0m        ^\u001b[0m\n\u001b[0;31mSyntaxError\u001b[0m\u001b[0;31m:\u001b[0m invalid syntax. Perhaps you forgot a comma?\n"
          ]
        }
      ]
    },
    {
      "cell_type": "code",
      "source": [
        "fruits = {\"banana\":200,\"apple\":300,\"guava\":400}\n",
        "print(fruits.get(\"banana\"))\n"
      ],
      "metadata": {
        "colab": {
          "base_uri": "https://localhost:8080/"
        },
        "id": "BVtYylqqjQ44",
        "outputId": "32729cf2-1c83-47b6-d734-d059503d1e4e"
      },
      "execution_count": null,
      "outputs": [
        {
          "output_type": "stream",
          "name": "stdout",
          "text": [
            "200\n"
          ]
        }
      ]
    },
    {
      "cell_type": "code",
      "source": [
        "fruits = {\"banana\":200,\"apple\":300,\"guava\":400}\n",
        "fruits.update({\"water melon\":500})\n",
        "print(fruits)"
      ],
      "metadata": {
        "colab": {
          "base_uri": "https://localhost:8080/"
        },
        "id": "ELIWQVC_j7Jd",
        "outputId": "cc2cafbf-0363-4ab3-b3d2-53da5d8c557d"
      },
      "execution_count": null,
      "outputs": [
        {
          "output_type": "stream",
          "name": "stdout",
          "text": [
            "{'banana': 200, 'apple': 300, 'guava': 400, 'water melon': 500}\n"
          ]
        }
      ]
    },
    {
      "cell_type": "code",
      "source": [
        "fruits = {\"banana\":200,\"apple\":300,\"guava\":400}\n",
        "fruits.pop(\"banana\")\n",
        "print(fruits)"
      ],
      "metadata": {
        "colab": {
          "base_uri": "https://localhost:8080/"
        },
        "id": "LML8eQ8EkK9N",
        "outputId": "a07c888d-b913-4951-be7b-686cd8f6e407"
      },
      "execution_count": null,
      "outputs": [
        {
          "output_type": "stream",
          "name": "stdout",
          "text": [
            "{'apple': 300, 'guava': 400}\n"
          ]
        }
      ]
    },
    {
      "cell_type": "code",
      "source": [
        "fruits = {\"banana\":200,\"apple\":300,\"guava\":400}\n",
        "fruits.popitem()\n",
        "print(fruits)"
      ],
      "metadata": {
        "colab": {
          "base_uri": "https://localhost:8080/"
        },
        "id": "EOxpxNhRkuqy",
        "outputId": "16ec8bf7-1568-48bb-c1b7-354b4e29ed54"
      },
      "execution_count": null,
      "outputs": [
        {
          "output_type": "stream",
          "name": "stdout",
          "text": [
            "{'banana': 200, 'apple': 300}\n"
          ]
        }
      ]
    },
    {
      "cell_type": "code",
      "source": [
        "fruits = {\"banana\":200,\"apple\":300,\"guava\":400}\n",
        "fruits.keys()\n",
        "print(fruits)"
      ],
      "metadata": {
        "colab": {
          "base_uri": "https://localhost:8080/"
        },
        "id": "EMhmlbqWk44B",
        "outputId": "f2929d2b-c07a-4364-e716-29746e9a88be"
      },
      "execution_count": null,
      "outputs": [
        {
          "output_type": "stream",
          "name": "stdout",
          "text": [
            "{'banana': 200, 'apple': 300, 'guava': 400}\n"
          ]
        }
      ]
    },
    {
      "cell_type": "code",
      "source": [
        "fruits = {\"banana\":200,\"apple\":300,\"guava\":400}\n",
        "fruits.values()\n",
        "print(fruits)"
      ],
      "metadata": {
        "colab": {
          "base_uri": "https://localhost:8080/"
        },
        "id": "vVtGIuP2lATx",
        "outputId": "12852701-77d9-4766-b5be-532a35ccf0d7"
      },
      "execution_count": null,
      "outputs": [
        {
          "output_type": "stream",
          "name": "stdout",
          "text": [
            "{'banana': 200, 'apple': 300, 'guava': 400}\n"
          ]
        }
      ]
    },
    {
      "cell_type": "code",
      "source": [
        "fruits = {\"banana\":200,\"apple\":300,\"guava\":400}\n",
        "fruits.clear()\n",
        "print(fruits)\n"
      ],
      "metadata": {
        "colab": {
          "base_uri": "https://localhost:8080/"
        },
        "id": "rDAxOnQ6lIsT",
        "outputId": "64679a25-dffb-48c3-c950-17ef0c86db13"
      },
      "execution_count": null,
      "outputs": [
        {
          "output_type": "stream",
          "name": "stdout",
          "text": [
            "{}\n"
          ]
        }
      ]
    },
    {
      "cell_type": "code",
      "source": [
        "a = {\"banana\":200,\"apple\":300,\"guava\":400}\n",
        "b = a\n",
        "print(b)\n",
        "print(id(a))\n",
        "print(id(b))"
      ],
      "metadata": {
        "colab": {
          "base_uri": "https://localhost:8080/"
        },
        "id": "RWcgfWqOlXQs",
        "outputId": "94f85d85-46a1-49c6-fe3b-b498e5779807"
      },
      "execution_count": null,
      "outputs": [
        {
          "output_type": "stream",
          "name": "stdout",
          "text": [
            "{'banana': 200, 'apple': 300, 'guava': 400}\n",
            "136051516886400\n",
            "136051516886400\n"
          ]
        }
      ]
    },
    {
      "cell_type": "code",
      "source": [
        "a = {\"banana\":200,\"apple\":300,\"guava\":400}\n",
        "b = a.copy()\n",
        "print(b)\n"
      ],
      "metadata": {
        "colab": {
          "base_uri": "https://localhost:8080/"
        },
        "id": "4qPUk5rylzcV",
        "outputId": "8d787ea1-f981-4f09-c531-f4302da7c89e"
      },
      "execution_count": null,
      "outputs": [
        {
          "output_type": "stream",
          "name": "stdout",
          "text": [
            "{'banana': 200, 'apple': 300, 'guava': 400}\n"
          ]
        }
      ]
    },
    {
      "cell_type": "code",
      "source": [],
      "metadata": {
        "id": "QpkPa-pNmDtJ"
      },
      "execution_count": null,
      "outputs": []
    }
  ]
}